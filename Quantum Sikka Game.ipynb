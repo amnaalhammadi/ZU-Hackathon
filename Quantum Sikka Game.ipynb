{
  "nbformat": 4,
  "nbformat_minor": 0,
  "metadata": {
    "colab": {
      "provenance": [],
      "authorship_tag": "ABX9TyMBmEl3XCtuBGLwNWaoqVw2",
      "include_colab_link": true
    },
    "kernelspec": {
      "name": "python3",
      "display_name": "Python 3"
    },
    "language_info": {
      "name": "python"
    }
  },
  "cells": [
    {
      "cell_type": "markdown",
      "metadata": {
        "id": "view-in-github",
        "colab_type": "text"
      },
      "source": [
        "<a href=\"https://colab.research.google.com/github/amnaalhammadi/ZU-Hackathon/blob/main/Quantum%20Sikka%20Game.ipynb\" target=\"_parent\"><img src=\"https://colab.research.google.com/assets/colab-badge.svg\" alt=\"Open In Colab\"/></a>"
      ]
    },
    {
      "cell_type": "code",
      "execution_count": null,
      "metadata": {
        "id": "592mWVId7AEl"
      },
      "outputs": [],
      "source": [
        "from qiskit import Aer\n",
        "from qiskit.providers.aer import QasmSimulator\n",
        "from qiskit.quantum_info import Statevector\n",
        "from qiskit.circuit.library import QuantumCircuit\n",
        "\n",
        "# create a quantum circuit with one qubit and one classical bit\n",
        "qc = QuantumCircuit(1, 1)\n",
        "\n",
        "# apply a Hadamard gate to create a superposition of 0 and 1\n",
        "qc.h(0)\n",
        "\n",
        "# measure the qubit and store the result in the classical bit\n",
        "qc.measure(0, 0)\n",
        "\n",
        "# use the qasm simulator to execute the circuit and generate a random number\n",
        "backend = Aer.get_backend('qasm_simulator')\n",
        "job = backend.run(qc, shots=1)\n",
        "result = job.result()\n",
        "counts = result.get_counts()\n",
        "random_number = int(list(counts.keys())[0])\n",
        "\n",
        "# map the random number to a number between 1 and 6\n",
        "dice1 = random_number % 6 + 1\n",
        "dice2 = random_number % 6 + 2\n",
        "\n",
        "# print the result\n",
        "print(\"Dice 1:\", dice1)\n",
        "print(\"Dice 2:\", dice2)"
      ]
    }
  ]
}